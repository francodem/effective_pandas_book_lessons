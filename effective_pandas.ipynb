{
  "nbformat": 4,
  "nbformat_minor": 0,
  "metadata": {
    "colab": {
      "provenance": [],
      "authorship_tag": "ABX9TyM4QkER83QzAbZYBf2Er0r/",
      "include_colab_link": true
    },
    "kernelspec": {
      "name": "python3",
      "display_name": "Python 3"
    },
    "language_info": {
      "name": "python"
    }
  },
  "cells": [
    {
      "cell_type": "markdown",
      "metadata": {
        "id": "view-in-github",
        "colab_type": "text"
      },
      "source": [
        "<a href=\"https://colab.research.google.com/github/francodem/effective_pandas_book_lessons/blob/main/effective_pandas.ipynb\" target=\"_parent\"><img src=\"https://colab.research.google.com/assets/colab-badge.svg\" alt=\"Open In Colab\"/></a>"
      ]
    },
    {
      "cell_type": "markdown",
      "source": [
        "# Effective Pandas\n",
        "#### from Matt Harrison\n",
        "### Learning from pandas - Lessons and more"
      ],
      "metadata": {
        "id": "-ZYIXb3ohads"
      }
    },
    {
      "cell_type": "markdown",
      "source": [
        "### Library import"
      ],
      "metadata": {
        "id": "klosIy_ahxHG"
      }
    },
    {
      "cell_type": "code",
      "source": [
        "import pandas as pd"
      ],
      "metadata": {
        "id": "9RCd2lgghvsz"
      },
      "execution_count": null,
      "outputs": []
    },
    {
      "cell_type": "markdown",
      "source": [
        "### Data structures"
      ],
      "metadata": {
        "id": "ijkNfcf7hriX"
      }
    },
    {
      "cell_type": "markdown",
      "source": [
        "The most widely used data structures are the Series and the DataFrame for dealing with array data and tabular data."
      ],
      "metadata": {
        "id": "kahgezczh-bv"
      }
    },
    {
      "cell_type": "markdown",
      "source": [
        "A series is a 1D data structure, and a DataFrame is a 2D data structure."
      ],
      "metadata": {
        "id": "POI8XrABjGAo"
      }
    },
    {
      "cell_type": "code",
      "execution_count": null,
      "metadata": {
        "id": "zpXn4wlhe8jV"
      },
      "outputs": [],
      "source": [
        "# Making a DataFrame\n",
        "df = pd.DataFrame(columns=['name','last_name','email'], index=[1,2,3])"
      ]
    },
    {
      "cell_type": "code",
      "source": [
        "# Set attribute on index 1\n",
        "df['name'][1] = \"Franco\"\n",
        "df['last_name'][1] = \"Moreno\"\n",
        "df['email'][1] = \"franco@hello.com\""
      ],
      "metadata": {
        "id": "wcFkU4PsiKX8"
      },
      "execution_count": null,
      "outputs": []
    },
    {
      "cell_type": "code",
      "source": [
        "# Read all the values from index 1\n",
        "df.loc[1]"
      ],
      "metadata": {
        "colab": {
          "base_uri": "https://localhost:8080/",
          "height": 178
        },
        "id": "KzU0qPViiN3i",
        "outputId": "309ffbe9-9106-4930-8171-f6f7c81d7fa6"
      },
      "execution_count": null,
      "outputs": [
        {
          "output_type": "execute_result",
          "data": {
            "text/plain": [
              "name                   Franco\n",
              "last_name              Moreno\n",
              "email        franco@hello.com\n",
              "Name: 1, dtype: object"
            ],
            "text/html": [
              "<div>\n",
              "<style scoped>\n",
              "    .dataframe tbody tr th:only-of-type {\n",
              "        vertical-align: middle;\n",
              "    }\n",
              "\n",
              "    .dataframe tbody tr th {\n",
              "        vertical-align: top;\n",
              "    }\n",
              "\n",
              "    .dataframe thead th {\n",
              "        text-align: right;\n",
              "    }\n",
              "</style>\n",
              "<table border=\"1\" class=\"dataframe\">\n",
              "  <thead>\n",
              "    <tr style=\"text-align: right;\">\n",
              "      <th></th>\n",
              "      <th>1</th>\n",
              "    </tr>\n",
              "  </thead>\n",
              "  <tbody>\n",
              "    <tr>\n",
              "      <th>name</th>\n",
              "      <td>Franco</td>\n",
              "    </tr>\n",
              "    <tr>\n",
              "      <th>last_name</th>\n",
              "      <td>Moreno</td>\n",
              "    </tr>\n",
              "    <tr>\n",
              "      <th>email</th>\n",
              "      <td>franco@hello.com</td>\n",
              "    </tr>\n",
              "  </tbody>\n",
              "</table>\n",
              "</div><br><label><b>dtype:</b> object</label>"
            ]
          },
          "metadata": {},
          "execution_count": 23
        }
      ]
    },
    {
      "cell_type": "markdown",
      "source": [
        "## Series Introduction"
      ],
      "metadata": {
        "id": "oC9xGQBqjeYy"
      }
    },
    {
      "cell_type": "markdown",
      "source": [
        "A Series is used to model one-dimensional data. The Series object also has a few more bits of data, including an index and a name. A common idea through pandas is the notion of an axis. Because a series is one-dimensional, it has a single axis—the index."
      ],
      "metadata": {
        "id": "Dlqyz-YHjgj2"
      }
    },
    {
      "cell_type": "markdown",
      "source": [
        "**Fundamentals bases:**"
      ],
      "metadata": {
        "id": "DRYhrf2uj3J6"
      }
    },
    {
      "cell_type": "code",
      "source": [
        "# Making a series DS\n",
        "series = {\n",
        "  'index': [0, 1, 2, 3],\n",
        "  'data': [145, 142, 38, 13],\n",
        "  'name': 'songs'\n",
        "}"
      ],
      "metadata": {
        "id": "_xv4CBHLiVgt"
      },
      "execution_count": null,
      "outputs": []
    },
    {
      "cell_type": "code",
      "source": [
        "# A method to access to a series element\n",
        "def get(series, idx):\n",
        "  value_idx = series['index'].index(idx)\n",
        "  return series['data'][value_idx]"
      ],
      "metadata": {
        "id": "neUk0mHdkGzY"
      },
      "execution_count": null,
      "outputs": []
    },
    {
      "cell_type": "code",
      "source": [
        "# Getting the element\n",
        "get(series=series, idx=1)"
      ],
      "metadata": {
        "colab": {
          "base_uri": "https://localhost:8080/"
        },
        "id": "Sezx3Z8TkXL4",
        "outputId": "ed5b2e3b-7c09-4c6d-f12b-b0251d8f974f"
      },
      "execution_count": null,
      "outputs": [
        {
          "output_type": "execute_result",
          "data": {
            "text/plain": [
              "142"
            ]
          },
          "metadata": {},
          "execution_count": 37
        }
      ]
    },
    {
      "cell_type": "code",
      "source": [
        "# Applying other abstraction with songs\n",
        "songs = {\n",
        "  'index': ['Paul', 'John', 'George', 'Ringo'],\n",
        "  'data': [145, 142, 38, 13],\n",
        "  'name': 'counts'\n",
        "}"
      ],
      "metadata": {
        "id": "55naulu2kdyR"
      },
      "execution_count": null,
      "outputs": []
    },
    {
      "cell_type": "code",
      "source": [
        "get(series=songs, idx='John')"
      ],
      "metadata": {
        "colab": {
          "base_uri": "https://localhost:8080/"
        },
        "id": "lfTzWYZuljqj",
        "outputId": "fb36bd51-d2fa-459b-c651-96e8f74d1686"
      },
      "execution_count": null,
      "outputs": [
        {
          "output_type": "execute_result",
          "data": {
            "text/plain": [
              "142"
            ]
          },
          "metadata": {},
          "execution_count": 39
        }
      ]
    },
    {
      "cell_type": "markdown",
      "source": [
        "**Now using a Pandas Series:**"
      ],
      "metadata": {
        "id": "LtrQGwszluN-"
      }
    },
    {
      "cell_type": "code",
      "source": [
        "# Making the Series\n",
        "songs2 = pd.Series([145, 142, 38, 13], name='counts')"
      ],
      "metadata": {
        "id": "Tch5OyKZlnYP"
      },
      "execution_count": null,
      "outputs": []
    },
    {
      "cell_type": "code",
      "source": [
        "# Printing all details from songs2\n",
        "songs2"
      ],
      "metadata": {
        "colab": {
          "base_uri": "https://localhost:8080/",
          "height": 210
        },
        "id": "21wB6ZKnl5_R",
        "outputId": "3c9c0676-7903-44ce-af25-6bdb683dc8aa"
      },
      "execution_count": null,
      "outputs": [
        {
          "output_type": "execute_result",
          "data": {
            "text/plain": [
              "0    145\n",
              "1    142\n",
              "2     38\n",
              "3     13\n",
              "Name: counts, dtype: int64"
            ],
            "text/html": [
              "<div>\n",
              "<style scoped>\n",
              "    .dataframe tbody tr th:only-of-type {\n",
              "        vertical-align: middle;\n",
              "    }\n",
              "\n",
              "    .dataframe tbody tr th {\n",
              "        vertical-align: top;\n",
              "    }\n",
              "\n",
              "    .dataframe thead th {\n",
              "        text-align: right;\n",
              "    }\n",
              "</style>\n",
              "<table border=\"1\" class=\"dataframe\">\n",
              "  <thead>\n",
              "    <tr style=\"text-align: right;\">\n",
              "      <th></th>\n",
              "      <th>counts</th>\n",
              "    </tr>\n",
              "  </thead>\n",
              "  <tbody>\n",
              "    <tr>\n",
              "      <th>0</th>\n",
              "      <td>145</td>\n",
              "    </tr>\n",
              "    <tr>\n",
              "      <th>1</th>\n",
              "      <td>142</td>\n",
              "    </tr>\n",
              "    <tr>\n",
              "      <th>2</th>\n",
              "      <td>38</td>\n",
              "    </tr>\n",
              "    <tr>\n",
              "      <th>3</th>\n",
              "      <td>13</td>\n",
              "    </tr>\n",
              "  </tbody>\n",
              "</table>\n",
              "</div><br><label><b>dtype:</b> int64</label>"
            ]
          },
          "metadata": {},
          "execution_count": 41
        }
      ]
    },
    {
      "cell_type": "markdown",
      "source": [
        "**Fact:** looks like a 2D array, but the index is not considered in the data structure. We can ensure this by getting the shape."
      ],
      "metadata": {
        "id": "9kYNRnFvmIjM"
      }
    },
    {
      "cell_type": "code",
      "source": [
        "songs2.shape"
      ],
      "metadata": {
        "colab": {
          "base_uri": "https://localhost:8080/"
        },
        "id": "0Z4Tmko2l9_5",
        "outputId": "c3c8be8f-5ffc-4610-c0c5-721465071642"
      },
      "execution_count": null,
      "outputs": [
        {
          "output_type": "execute_result",
          "data": {
            "text/plain": [
              "(4,)"
            ]
          },
          "metadata": {},
          "execution_count": 42
        }
      ]
    },
    {
      "cell_type": "code",
      "source": [
        "# Makings songs3\n",
        "songs3 = pd.Series([145, 142, 38, 13], name='counts', index=['Paul', 'John', 'George', 'Ringo'])"
      ],
      "metadata": {
        "id": "Twi9diLUmld-"
      },
      "execution_count": null,
      "outputs": []
    },
    {
      "cell_type": "code",
      "source": [
        "# Index inspection\n",
        "songs3.index"
      ],
      "metadata": {
        "colab": {
          "base_uri": "https://localhost:8080/"
        },
        "id": "PDdqKR20mVUt",
        "outputId": "51f7e957-7ff0-48bb-803a-21b6062aa847"
      },
      "execution_count": null,
      "outputs": [
        {
          "output_type": "execute_result",
          "data": {
            "text/plain": [
              "Index(['Paul', 'John', 'George', 'Ringo'], dtype='object')"
            ]
          },
          "metadata": {},
          "execution_count": 45
        }
      ]
    },
    {
      "cell_type": "markdown",
      "source": [
        "#### Storing a class into a Series - Heterogeneous or mixed types"
      ],
      "metadata": {
        "id": "S8pyw8-xmz5s"
      }
    },
    {
      "cell_type": "code",
      "source": [
        "# Storing a class into a Series\n",
        "class Foo:\n",
        "  pass\n",
        "\n",
        "ringo = pd.Series(\n",
        "  ['Richard', 'Starkey', 13, Foo()],\n",
        "  name='ringo'\n",
        ")"
      ],
      "metadata": {
        "id": "FxaUEjOYmhc2"
      },
      "execution_count": null,
      "outputs": []
    },
    {
      "cell_type": "code",
      "source": [
        "# Getting the ringo Series\n",
        "ringo"
      ],
      "metadata": {
        "colab": {
          "base_uri": "https://localhost:8080/",
          "height": 210
        },
        "id": "AWWAxM4Vm-B0",
        "outputId": "63d757fa-5b9d-48ac-bad5-6a60091d8ce1"
      },
      "execution_count": null,
      "outputs": [
        {
          "output_type": "execute_result",
          "data": {
            "text/plain": [
              "0                                    Richard\n",
              "1                                    Starkey\n",
              "2                                         13\n",
              "3    <__main__.Foo object at 0x795ed1e90790>\n",
              "Name: ringo, dtype: object"
            ],
            "text/html": [
              "<div>\n",
              "<style scoped>\n",
              "    .dataframe tbody tr th:only-of-type {\n",
              "        vertical-align: middle;\n",
              "    }\n",
              "\n",
              "    .dataframe tbody tr th {\n",
              "        vertical-align: top;\n",
              "    }\n",
              "\n",
              "    .dataframe thead th {\n",
              "        text-align: right;\n",
              "    }\n",
              "</style>\n",
              "<table border=\"1\" class=\"dataframe\">\n",
              "  <thead>\n",
              "    <tr style=\"text-align: right;\">\n",
              "      <th></th>\n",
              "      <th>ringo</th>\n",
              "    </tr>\n",
              "  </thead>\n",
              "  <tbody>\n",
              "    <tr>\n",
              "      <th>0</th>\n",
              "      <td>Richard</td>\n",
              "    </tr>\n",
              "    <tr>\n",
              "      <th>1</th>\n",
              "      <td>Starkey</td>\n",
              "    </tr>\n",
              "    <tr>\n",
              "      <th>2</th>\n",
              "      <td>13</td>\n",
              "    </tr>\n",
              "    <tr>\n",
              "      <th>3</th>\n",
              "      <td>&lt;__main__.Foo object at 0x795ed1e90790&gt;</td>\n",
              "    </tr>\n",
              "  </tbody>\n",
              "</table>\n",
              "</div><br><label><b>dtype:</b> object</label>"
            ]
          },
          "metadata": {},
          "execution_count": 47
        }
      ]
    },
    {
      "cell_type": "markdown",
      "source": [
        "### The NaN value"
      ],
      "metadata": {
        "id": "Y1GdzYaLnTdZ"
      }
    },
    {
      "cell_type": "markdown",
      "source": [
        "When Pandas determines that a Series holds a numeric values but cannot find a number to represent an entry, it will use **NaN**."
      ],
      "metadata": {
        "id": "TzYAOUyznVRS"
      }
    },
    {
      "cell_type": "code",
      "source": [
        "import numpy as np\n",
        "\n",
        "# a Series\n",
        "nan_series = pd.Series([2, np.nan])"
      ],
      "metadata": {
        "id": "OIGAO-uUnAaT"
      },
      "execution_count": null,
      "outputs": []
    },
    {
      "cell_type": "code",
      "source": [
        "# Getting the nan_series\n",
        "nan_series"
      ],
      "metadata": {
        "colab": {
          "base_uri": "https://localhost:8080/",
          "height": 147
        },
        "id": "H-pfWJbFntun",
        "outputId": "9e17d8ca-67e4-47af-af6a-e0bc12afe7cf"
      },
      "execution_count": null,
      "outputs": [
        {
          "output_type": "execute_result",
          "data": {
            "text/plain": [
              "0    2.0\n",
              "1    NaN\n",
              "dtype: float64"
            ],
            "text/html": [
              "<div>\n",
              "<style scoped>\n",
              "    .dataframe tbody tr th:only-of-type {\n",
              "        vertical-align: middle;\n",
              "    }\n",
              "\n",
              "    .dataframe tbody tr th {\n",
              "        vertical-align: top;\n",
              "    }\n",
              "\n",
              "    .dataframe thead th {\n",
              "        text-align: right;\n",
              "    }\n",
              "</style>\n",
              "<table border=\"1\" class=\"dataframe\">\n",
              "  <thead>\n",
              "    <tr style=\"text-align: right;\">\n",
              "      <th></th>\n",
              "      <th>0</th>\n",
              "    </tr>\n",
              "  </thead>\n",
              "  <tbody>\n",
              "    <tr>\n",
              "      <th>0</th>\n",
              "      <td>2.0</td>\n",
              "    </tr>\n",
              "    <tr>\n",
              "      <th>1</th>\n",
              "      <td>NaN</td>\n",
              "    </tr>\n",
              "  </tbody>\n",
              "</table>\n",
              "</div><br><label><b>dtype:</b> float64</label>"
            ]
          },
          "metadata": {},
          "execution_count": 50
        }
      ]
    },
    {
      "cell_type": "markdown",
      "source": [
        "**Fact:** It's a float64 type, because it supports NaN, on the other hand, int64 does not support it."
      ],
      "metadata": {
        "id": "cGYBSHuxn9NR"
      }
    },
    {
      "cell_type": "markdown",
      "source": [
        "**Fact 2:** Pandas count() ignores NaN values, so it will returns just the available values."
      ],
      "metadata": {
        "id": "J2VO8uBGoenW"
      }
    },
    {
      "cell_type": "code",
      "source": [
        "# Printing the count of nan_series\n",
        "nan_series.count()"
      ],
      "metadata": {
        "colab": {
          "base_uri": "https://localhost:8080/"
        },
        "id": "UTjkOIr0nzh0",
        "outputId": "b8ba40c9-83bb-4cf2-81f3-b29294cc3a23"
      },
      "execution_count": null,
      "outputs": [
        {
          "output_type": "execute_result",
          "data": {
            "text/plain": [
              "1"
            ]
          },
          "metadata": {},
          "execution_count": 52
        }
      ]
    },
    {
      "cell_type": "markdown",
      "source": [
        "#### Optional Integer Support for NaN - P.17"
      ],
      "metadata": {
        "id": "JZUIaTNDoy75"
      }
    },
    {
      "cell_type": "code",
      "source": [],
      "metadata": {
        "id": "b-7CYnp_otPi"
      },
      "execution_count": null,
      "outputs": []
    }
  ]
}