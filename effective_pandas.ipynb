{
  "nbformat": 4,
  "nbformat_minor": 0,
  "metadata": {
    "colab": {
      "provenance": [],
      "authorship_tag": "ABX9TyP9JX2Te66GB/9zzWVDt+98",
      "include_colab_link": true
    },
    "kernelspec": {
      "name": "python3",
      "display_name": "Python 3"
    },
    "language_info": {
      "name": "python"
    }
  },
  "cells": [
    {
      "cell_type": "markdown",
      "metadata": {
        "id": "view-in-github",
        "colab_type": "text"
      },
      "source": [
        "<a href=\"https://colab.research.google.com/github/francodem/effective_pandas_book_lessons/blob/main/effective_pandas.ipynb\" target=\"_parent\"><img src=\"https://colab.research.google.com/assets/colab-badge.svg\" alt=\"Open In Colab\"/></a>"
      ]
    },
    {
      "cell_type": "markdown",
      "source": [
        "# Effective Pandas\n",
        "#### from Matt Harrison\n",
        "### Learning pandas - Lessons and more"
      ],
      "metadata": {
        "id": "-ZYIXb3ohads"
      }
    },
    {
      "cell_type": "markdown",
      "source": [
        "### Library import"
      ],
      "metadata": {
        "id": "klosIy_ahxHG"
      }
    },
    {
      "cell_type": "code",
      "source": [
        "import pandas as pd"
      ],
      "metadata": {
        "id": "9RCd2lgghvsz"
      },
      "execution_count": 2,
      "outputs": []
    },
    {
      "cell_type": "markdown",
      "source": [
        "### Data structures"
      ],
      "metadata": {
        "id": "ijkNfcf7hriX"
      }
    },
    {
      "cell_type": "markdown",
      "source": [
        "The most widely used data structures are the Series and the DataFrame for dealing with array data and tabular data."
      ],
      "metadata": {
        "id": "kahgezczh-bv"
      }
    },
    {
      "cell_type": "markdown",
      "source": [
        "A series is a 1D data structure, and a DataFrame is a 2D data structure."
      ],
      "metadata": {
        "id": "POI8XrABjGAo"
      }
    },
    {
      "cell_type": "code",
      "execution_count": 3,
      "metadata": {
        "id": "zpXn4wlhe8jV"
      },
      "outputs": [],
      "source": [
        "# Making a DataFrame\n",
        "df = pd.DataFrame(columns=['name','last_name','email'], index=[1,2,3])"
      ]
    },
    {
      "cell_type": "code",
      "source": [
        "# Set attribute on index 1\n",
        "df['name'][1] = \"Franco\"\n",
        "df['last_name'][1] = \"Moreno\"\n",
        "df['email'][1] = \"franco@hello.com\""
      ],
      "metadata": {
        "id": "wcFkU4PsiKX8"
      },
      "execution_count": 4,
      "outputs": []
    },
    {
      "cell_type": "code",
      "source": [
        "# Read all the values from index 1\n",
        "df.loc[1]"
      ],
      "metadata": {
        "colab": {
          "base_uri": "https://localhost:8080/",
          "height": 178
        },
        "id": "KzU0qPViiN3i",
        "outputId": "6a38e8c3-98af-4f07-cdce-563622b2554b"
      },
      "execution_count": 5,
      "outputs": [
        {
          "output_type": "execute_result",
          "data": {
            "text/plain": [
              "name                   Franco\n",
              "last_name              Moreno\n",
              "email        franco@hello.com\n",
              "Name: 1, dtype: object"
            ],
            "text/html": [
              "<div>\n",
              "<style scoped>\n",
              "    .dataframe tbody tr th:only-of-type {\n",
              "        vertical-align: middle;\n",
              "    }\n",
              "\n",
              "    .dataframe tbody tr th {\n",
              "        vertical-align: top;\n",
              "    }\n",
              "\n",
              "    .dataframe thead th {\n",
              "        text-align: right;\n",
              "    }\n",
              "</style>\n",
              "<table border=\"1\" class=\"dataframe\">\n",
              "  <thead>\n",
              "    <tr style=\"text-align: right;\">\n",
              "      <th></th>\n",
              "      <th>1</th>\n",
              "    </tr>\n",
              "  </thead>\n",
              "  <tbody>\n",
              "    <tr>\n",
              "      <th>name</th>\n",
              "      <td>Franco</td>\n",
              "    </tr>\n",
              "    <tr>\n",
              "      <th>last_name</th>\n",
              "      <td>Moreno</td>\n",
              "    </tr>\n",
              "    <tr>\n",
              "      <th>email</th>\n",
              "      <td>franco@hello.com</td>\n",
              "    </tr>\n",
              "  </tbody>\n",
              "</table>\n",
              "</div><br><label><b>dtype:</b> object</label>"
            ]
          },
          "metadata": {},
          "execution_count": 5
        }
      ]
    },
    {
      "cell_type": "markdown",
      "source": [
        "## Series Introduction"
      ],
      "metadata": {
        "id": "oC9xGQBqjeYy"
      }
    },
    {
      "cell_type": "markdown",
      "source": [
        "A Series is used to model one-dimensional data. The Series object also has a few more bits of data, including an index and a name. A common idea through pandas is the notion of an axis. Because a series is one-dimensional, it has a single axis—the index."
      ],
      "metadata": {
        "id": "Dlqyz-YHjgj2"
      }
    },
    {
      "cell_type": "markdown",
      "source": [
        "**Fundamentals bases:**"
      ],
      "metadata": {
        "id": "DRYhrf2uj3J6"
      }
    },
    {
      "cell_type": "code",
      "source": [
        "# Making a series DS\n",
        "series = {\n",
        "  'index': [0, 1, 2, 3],\n",
        "  'data': [145, 142, 38, 13],\n",
        "  'name': 'songs'\n",
        "}"
      ],
      "metadata": {
        "id": "_xv4CBHLiVgt"
      },
      "execution_count": 6,
      "outputs": []
    },
    {
      "cell_type": "code",
      "source": [
        "# A method to access to a series element\n",
        "def get(series, idx):\n",
        "  value_idx = series['index'].index(idx)\n",
        "  return series['data'][value_idx]"
      ],
      "metadata": {
        "id": "neUk0mHdkGzY"
      },
      "execution_count": 7,
      "outputs": []
    },
    {
      "cell_type": "code",
      "source": [
        "# Getting the element\n",
        "get(series=series, idx=1)"
      ],
      "metadata": {
        "colab": {
          "base_uri": "https://localhost:8080/"
        },
        "id": "Sezx3Z8TkXL4",
        "outputId": "d3a2a141-592d-4afa-dc09-a5f9c2bc6b9e"
      },
      "execution_count": 8,
      "outputs": [
        {
          "output_type": "execute_result",
          "data": {
            "text/plain": [
              "142"
            ]
          },
          "metadata": {},
          "execution_count": 8
        }
      ]
    },
    {
      "cell_type": "code",
      "source": [
        "# Applying other abstraction with songs\n",
        "songs = {\n",
        "  'index': ['Paul', 'John', 'George', 'Ringo'],\n",
        "  'data': [145, 142, 38, 13],\n",
        "  'name': 'counts'\n",
        "}"
      ],
      "metadata": {
        "id": "55naulu2kdyR"
      },
      "execution_count": 9,
      "outputs": []
    },
    {
      "cell_type": "code",
      "source": [
        "get(series=songs, idx='John')"
      ],
      "metadata": {
        "colab": {
          "base_uri": "https://localhost:8080/"
        },
        "id": "lfTzWYZuljqj",
        "outputId": "e70433ad-4b47-4cbd-a7eb-f0b002f3f22c"
      },
      "execution_count": 10,
      "outputs": [
        {
          "output_type": "execute_result",
          "data": {
            "text/plain": [
              "142"
            ]
          },
          "metadata": {},
          "execution_count": 10
        }
      ]
    },
    {
      "cell_type": "markdown",
      "source": [
        "**Now using a Pandas Series:**"
      ],
      "metadata": {
        "id": "LtrQGwszluN-"
      }
    },
    {
      "cell_type": "code",
      "source": [
        "# Making the Series\n",
        "songs2 = pd.Series([145, 142, 38, 13], name='counts')"
      ],
      "metadata": {
        "id": "Tch5OyKZlnYP"
      },
      "execution_count": 11,
      "outputs": []
    },
    {
      "cell_type": "code",
      "source": [
        "# Printing all details from songs2\n",
        "songs2"
      ],
      "metadata": {
        "colab": {
          "base_uri": "https://localhost:8080/",
          "height": 210
        },
        "id": "21wB6ZKnl5_R",
        "outputId": "9d5120a6-4158-4bee-cd61-35cebbe33ff5"
      },
      "execution_count": 12,
      "outputs": [
        {
          "output_type": "execute_result",
          "data": {
            "text/plain": [
              "0    145\n",
              "1    142\n",
              "2     38\n",
              "3     13\n",
              "Name: counts, dtype: int64"
            ],
            "text/html": [
              "<div>\n",
              "<style scoped>\n",
              "    .dataframe tbody tr th:only-of-type {\n",
              "        vertical-align: middle;\n",
              "    }\n",
              "\n",
              "    .dataframe tbody tr th {\n",
              "        vertical-align: top;\n",
              "    }\n",
              "\n",
              "    .dataframe thead th {\n",
              "        text-align: right;\n",
              "    }\n",
              "</style>\n",
              "<table border=\"1\" class=\"dataframe\">\n",
              "  <thead>\n",
              "    <tr style=\"text-align: right;\">\n",
              "      <th></th>\n",
              "      <th>counts</th>\n",
              "    </tr>\n",
              "  </thead>\n",
              "  <tbody>\n",
              "    <tr>\n",
              "      <th>0</th>\n",
              "      <td>145</td>\n",
              "    </tr>\n",
              "    <tr>\n",
              "      <th>1</th>\n",
              "      <td>142</td>\n",
              "    </tr>\n",
              "    <tr>\n",
              "      <th>2</th>\n",
              "      <td>38</td>\n",
              "    </tr>\n",
              "    <tr>\n",
              "      <th>3</th>\n",
              "      <td>13</td>\n",
              "    </tr>\n",
              "  </tbody>\n",
              "</table>\n",
              "</div><br><label><b>dtype:</b> int64</label>"
            ]
          },
          "metadata": {},
          "execution_count": 12
        }
      ]
    },
    {
      "cell_type": "markdown",
      "source": [
        "**Fact:** looks like a 2D array, but the index is not considered in the data structure. We can ensure this by getting the shape."
      ],
      "metadata": {
        "id": "9kYNRnFvmIjM"
      }
    },
    {
      "cell_type": "code",
      "source": [
        "songs2.shape"
      ],
      "metadata": {
        "colab": {
          "base_uri": "https://localhost:8080/"
        },
        "id": "0Z4Tmko2l9_5",
        "outputId": "d61ba22e-8428-4522-c1c6-c34b8001bcee"
      },
      "execution_count": 13,
      "outputs": [
        {
          "output_type": "execute_result",
          "data": {
            "text/plain": [
              "(4,)"
            ]
          },
          "metadata": {},
          "execution_count": 13
        }
      ]
    },
    {
      "cell_type": "code",
      "source": [
        "# Makings songs3\n",
        "songs3 = pd.Series([145, 142, 38, 13], name='counts', index=['Paul', 'John', 'George', 'Ringo'])"
      ],
      "metadata": {
        "id": "Twi9diLUmld-"
      },
      "execution_count": 14,
      "outputs": []
    },
    {
      "cell_type": "code",
      "source": [
        "# Index inspection\n",
        "songs3.index"
      ],
      "metadata": {
        "colab": {
          "base_uri": "https://localhost:8080/"
        },
        "id": "PDdqKR20mVUt",
        "outputId": "09b470b7-65ca-42de-9dd2-5f8c8eaf05f6"
      },
      "execution_count": 15,
      "outputs": [
        {
          "output_type": "execute_result",
          "data": {
            "text/plain": [
              "Index(['Paul', 'John', 'George', 'Ringo'], dtype='object')"
            ]
          },
          "metadata": {},
          "execution_count": 15
        }
      ]
    },
    {
      "cell_type": "markdown",
      "source": [
        "#### Storing a class into a Series - Heterogeneous or mixed types"
      ],
      "metadata": {
        "id": "S8pyw8-xmz5s"
      }
    },
    {
      "cell_type": "code",
      "source": [
        "# Storing a class into a Series\n",
        "class Foo:\n",
        "  pass\n",
        "\n",
        "ringo = pd.Series(\n",
        "  ['Richard', 'Starkey', 13, Foo()],\n",
        "  name='ringo'\n",
        ")"
      ],
      "metadata": {
        "id": "FxaUEjOYmhc2"
      },
      "execution_count": 16,
      "outputs": []
    },
    {
      "cell_type": "code",
      "source": [
        "# Getting the ringo Series\n",
        "ringo"
      ],
      "metadata": {
        "colab": {
          "base_uri": "https://localhost:8080/",
          "height": 210
        },
        "id": "AWWAxM4Vm-B0",
        "outputId": "50cdfaba-70a4-4c9d-e443-99237e628a24"
      },
      "execution_count": 17,
      "outputs": [
        {
          "output_type": "execute_result",
          "data": {
            "text/plain": [
              "0                                    Richard\n",
              "1                                    Starkey\n",
              "2                                         13\n",
              "3    <__main__.Foo object at 0x7c98fa8b6ef0>\n",
              "Name: ringo, dtype: object"
            ],
            "text/html": [
              "<div>\n",
              "<style scoped>\n",
              "    .dataframe tbody tr th:only-of-type {\n",
              "        vertical-align: middle;\n",
              "    }\n",
              "\n",
              "    .dataframe tbody tr th {\n",
              "        vertical-align: top;\n",
              "    }\n",
              "\n",
              "    .dataframe thead th {\n",
              "        text-align: right;\n",
              "    }\n",
              "</style>\n",
              "<table border=\"1\" class=\"dataframe\">\n",
              "  <thead>\n",
              "    <tr style=\"text-align: right;\">\n",
              "      <th></th>\n",
              "      <th>ringo</th>\n",
              "    </tr>\n",
              "  </thead>\n",
              "  <tbody>\n",
              "    <tr>\n",
              "      <th>0</th>\n",
              "      <td>Richard</td>\n",
              "    </tr>\n",
              "    <tr>\n",
              "      <th>1</th>\n",
              "      <td>Starkey</td>\n",
              "    </tr>\n",
              "    <tr>\n",
              "      <th>2</th>\n",
              "      <td>13</td>\n",
              "    </tr>\n",
              "    <tr>\n",
              "      <th>3</th>\n",
              "      <td>&lt;__main__.Foo object at 0x7c98fa8b6ef0&gt;</td>\n",
              "    </tr>\n",
              "  </tbody>\n",
              "</table>\n",
              "</div><br><label><b>dtype:</b> object</label>"
            ]
          },
          "metadata": {},
          "execution_count": 17
        }
      ]
    },
    {
      "cell_type": "markdown",
      "source": [
        "### The NaN value"
      ],
      "metadata": {
        "id": "Y1GdzYaLnTdZ"
      }
    },
    {
      "cell_type": "markdown",
      "source": [
        "When Pandas determines that a Series holds a numeric values but cannot find a number to represent an entry, it will use **NaN**."
      ],
      "metadata": {
        "id": "TzYAOUyznVRS"
      }
    },
    {
      "cell_type": "code",
      "source": [
        "import numpy as np\n",
        "\n",
        "# a Series\n",
        "nan_series = pd.Series([2, np.nan])"
      ],
      "metadata": {
        "id": "OIGAO-uUnAaT"
      },
      "execution_count": 18,
      "outputs": []
    },
    {
      "cell_type": "code",
      "source": [
        "# Getting the nan_series\n",
        "nan_series"
      ],
      "metadata": {
        "colab": {
          "base_uri": "https://localhost:8080/",
          "height": 147
        },
        "id": "H-pfWJbFntun",
        "outputId": "a2225ddf-4e06-478d-ce28-256dcfc5057e"
      },
      "execution_count": 19,
      "outputs": [
        {
          "output_type": "execute_result",
          "data": {
            "text/plain": [
              "0    2.0\n",
              "1    NaN\n",
              "dtype: float64"
            ],
            "text/html": [
              "<div>\n",
              "<style scoped>\n",
              "    .dataframe tbody tr th:only-of-type {\n",
              "        vertical-align: middle;\n",
              "    }\n",
              "\n",
              "    .dataframe tbody tr th {\n",
              "        vertical-align: top;\n",
              "    }\n",
              "\n",
              "    .dataframe thead th {\n",
              "        text-align: right;\n",
              "    }\n",
              "</style>\n",
              "<table border=\"1\" class=\"dataframe\">\n",
              "  <thead>\n",
              "    <tr style=\"text-align: right;\">\n",
              "      <th></th>\n",
              "      <th>0</th>\n",
              "    </tr>\n",
              "  </thead>\n",
              "  <tbody>\n",
              "    <tr>\n",
              "      <th>0</th>\n",
              "      <td>2.0</td>\n",
              "    </tr>\n",
              "    <tr>\n",
              "      <th>1</th>\n",
              "      <td>NaN</td>\n",
              "    </tr>\n",
              "  </tbody>\n",
              "</table>\n",
              "</div><br><label><b>dtype:</b> float64</label>"
            ]
          },
          "metadata": {},
          "execution_count": 19
        }
      ]
    },
    {
      "cell_type": "markdown",
      "source": [
        "**Fact:** It's a float64 type, because it supports NaN, on the other hand, int64 does not support it."
      ],
      "metadata": {
        "id": "cGYBSHuxn9NR"
      }
    },
    {
      "cell_type": "markdown",
      "source": [
        "**Fact 2:** Pandas count() ignores NaN values, so it will returns just the available values."
      ],
      "metadata": {
        "id": "J2VO8uBGoenW"
      }
    },
    {
      "cell_type": "code",
      "source": [
        "# Printing the count of nan_series\n",
        "nan_series.count()"
      ],
      "metadata": {
        "colab": {
          "base_uri": "https://localhost:8080/"
        },
        "id": "UTjkOIr0nzh0",
        "outputId": "d705d02f-efe3-4362-9f82-1e96f3744cbf"
      },
      "execution_count": 20,
      "outputs": [
        {
          "output_type": "execute_result",
          "data": {
            "text/plain": [
              "1"
            ]
          },
          "metadata": {},
          "execution_count": 20
        }
      ]
    },
    {
      "cell_type": "markdown",
      "source": [
        "#### Optional Integer Support for NaN - P.17"
      ],
      "metadata": {
        "id": "JZUIaTNDoy75"
      }
    },
    {
      "cell_type": "markdown",
      "source": [
        "Using None instead \"NaN\" for Int64 type. This will produce the \"NA\" value."
      ],
      "metadata": {
        "id": "EqsN37P0IIHx"
      }
    },
    {
      "cell_type": "code",
      "source": [
        "# Creating a Series sample\n",
        "nan_series2 = pd.Series([2, None],\n",
        "                        index=['Ono', 'Clapton'],\n",
        "                        dtype='Int64')"
      ],
      "metadata": {
        "id": "b-7CYnp_otPi"
      },
      "execution_count": 21,
      "outputs": []
    },
    {
      "cell_type": "code",
      "source": [
        "# printing nan_series2\n",
        "nan_series2"
      ],
      "metadata": {
        "colab": {
          "base_uri": "https://localhost:8080/",
          "height": 147
        },
        "id": "r9xYNI9nJmAq",
        "outputId": "fb534db9-de92-404c-eefe-2bf6c5bfac85"
      },
      "execution_count": 22,
      "outputs": [
        {
          "output_type": "execute_result",
          "data": {
            "text/plain": [
              "Ono           2\n",
              "Clapton    <NA>\n",
              "dtype: Int64"
            ],
            "text/html": [
              "<div>\n",
              "<style scoped>\n",
              "    .dataframe tbody tr th:only-of-type {\n",
              "        vertical-align: middle;\n",
              "    }\n",
              "\n",
              "    .dataframe tbody tr th {\n",
              "        vertical-align: top;\n",
              "    }\n",
              "\n",
              "    .dataframe thead th {\n",
              "        text-align: right;\n",
              "    }\n",
              "</style>\n",
              "<table border=\"1\" class=\"dataframe\">\n",
              "  <thead>\n",
              "    <tr style=\"text-align: right;\">\n",
              "      <th></th>\n",
              "      <th>0</th>\n",
              "    </tr>\n",
              "  </thead>\n",
              "  <tbody>\n",
              "    <tr>\n",
              "      <th>Ono</th>\n",
              "      <td>2</td>\n",
              "    </tr>\n",
              "    <tr>\n",
              "      <th>Clapton</th>\n",
              "      <td>&lt;NA&gt;</td>\n",
              "    </tr>\n",
              "  </tbody>\n",
              "</table>\n",
              "</div><br><label><b>dtype:</b> Int64</label>"
            ]
          },
          "metadata": {},
          "execution_count": 22
        }
      ]
    },
    {
      "cell_type": "markdown",
      "source": [
        "**Fact:** Also this will be ignored by operations like count()"
      ],
      "metadata": {
        "id": "wmWzQ12pJyhV"
      }
    },
    {
      "cell_type": "code",
      "source": [
        "# showing count()\n",
        "nan_series2.count()"
      ],
      "metadata": {
        "colab": {
          "base_uri": "https://localhost:8080/"
        },
        "id": "DUa4LbUNJqsv",
        "outputId": "33c29935-f706-46f7-c348-2d8db1c1efca"
      },
      "execution_count": 23,
      "outputs": [
        {
          "output_type": "execute_result",
          "data": {
            "text/plain": [
              "1"
            ]
          },
          "metadata": {},
          "execution_count": 23
        }
      ]
    },
    {
      "cell_type": "markdown",
      "source": [
        "**Fact 2:** It's possible too to change the data type."
      ],
      "metadata": {
        "id": "EApLag_wKCK8"
      }
    },
    {
      "cell_type": "code",
      "source": [
        "# Changing the data type\n",
        "nan_series2.astype('Int64')"
      ],
      "metadata": {
        "colab": {
          "base_uri": "https://localhost:8080/",
          "height": 147
        },
        "id": "ZCzLQO4dJ5MF",
        "outputId": "47c55067-4926-48a7-fc79-fd4bd05da77c"
      },
      "execution_count": 24,
      "outputs": [
        {
          "output_type": "execute_result",
          "data": {
            "text/plain": [
              "Ono           2\n",
              "Clapton    <NA>\n",
              "dtype: Int64"
            ],
            "text/html": [
              "<div>\n",
              "<style scoped>\n",
              "    .dataframe tbody tr th:only-of-type {\n",
              "        vertical-align: middle;\n",
              "    }\n",
              "\n",
              "    .dataframe tbody tr th {\n",
              "        vertical-align: top;\n",
              "    }\n",
              "\n",
              "    .dataframe thead th {\n",
              "        text-align: right;\n",
              "    }\n",
              "</style>\n",
              "<table border=\"1\" class=\"dataframe\">\n",
              "  <thead>\n",
              "    <tr style=\"text-align: right;\">\n",
              "      <th></th>\n",
              "      <th>0</th>\n",
              "    </tr>\n",
              "  </thead>\n",
              "  <tbody>\n",
              "    <tr>\n",
              "      <th>Ono</th>\n",
              "      <td>2</td>\n",
              "    </tr>\n",
              "    <tr>\n",
              "      <th>Clapton</th>\n",
              "      <td>&lt;NA&gt;</td>\n",
              "    </tr>\n",
              "  </tbody>\n",
              "</table>\n",
              "</div><br><label><b>dtype:</b> Int64</label>"
            ]
          },
          "metadata": {},
          "execution_count": 24
        }
      ]
    },
    {
      "cell_type": "code",
      "source": [
        "# Printing nan_series2 again\n",
        "nan_series2"
      ],
      "metadata": {
        "colab": {
          "base_uri": "https://localhost:8080/",
          "height": 147
        },
        "id": "TQnCBRk3KKgx",
        "outputId": "c4decaca-6045-4d03-be89-dcf11ec6fd03"
      },
      "execution_count": 25,
      "outputs": [
        {
          "output_type": "execute_result",
          "data": {
            "text/plain": [
              "Ono           2\n",
              "Clapton    <NA>\n",
              "dtype: Int64"
            ],
            "text/html": [
              "<div>\n",
              "<style scoped>\n",
              "    .dataframe tbody tr th:only-of-type {\n",
              "        vertical-align: middle;\n",
              "    }\n",
              "\n",
              "    .dataframe tbody tr th {\n",
              "        vertical-align: top;\n",
              "    }\n",
              "\n",
              "    .dataframe thead th {\n",
              "        text-align: right;\n",
              "    }\n",
              "</style>\n",
              "<table border=\"1\" class=\"dataframe\">\n",
              "  <thead>\n",
              "    <tr style=\"text-align: right;\">\n",
              "      <th></th>\n",
              "      <th>0</th>\n",
              "    </tr>\n",
              "  </thead>\n",
              "  <tbody>\n",
              "    <tr>\n",
              "      <th>Ono</th>\n",
              "      <td>2</td>\n",
              "    </tr>\n",
              "    <tr>\n",
              "      <th>Clapton</th>\n",
              "      <td>&lt;NA&gt;</td>\n",
              "    </tr>\n",
              "  </tbody>\n",
              "</table>\n",
              "</div><br><label><b>dtype:</b> Int64</label>"
            ]
          },
          "metadata": {},
          "execution_count": 25
        }
      ]
    },
    {
      "cell_type": "markdown",
      "source": [
        "### Similiar to Numpy P. 17"
      ],
      "metadata": {
        "id": "T0h7PIYzKP6p"
      }
    },
    {
      "cell_type": "markdown",
      "source": [
        "Both types respond to index operations:"
      ],
      "metadata": {
        "id": "QJHLEPC-KY4P"
      }
    },
    {
      "cell_type": "code",
      "source": [
        "import numpy as np\n",
        "\n",
        "numpy_series = np.array([145, 142, 38, 13])"
      ],
      "metadata": {
        "id": "DnfFy0aYKN7E"
      },
      "execution_count": 26,
      "outputs": []
    },
    {
      "cell_type": "code",
      "source": [
        "# printing an index from numpy_series\n",
        "numpy_series[1]"
      ],
      "metadata": {
        "colab": {
          "base_uri": "https://localhost:8080/"
        },
        "id": "-JHLISVhKkFW",
        "outputId": "3e088841-b7b5-4691-d66e-e4f5edd19b39"
      },
      "execution_count": 27,
      "outputs": [
        {
          "output_type": "execute_result",
          "data": {
            "text/plain": [
              "142"
            ]
          },
          "metadata": {},
          "execution_count": 27
        }
      ]
    },
    {
      "cell_type": "code",
      "source": [
        "\"\"\"\n",
        "Pandas has changed the use of Series[index] to Series.iloc[index]\n",
        "\"\"\"\n",
        "# printing an index from the pandas series\n",
        "songs3.iloc[1]"
      ],
      "metadata": {
        "colab": {
          "base_uri": "https://localhost:8080/"
        },
        "id": "Y8QviaXRKoLT",
        "outputId": "7697ac85-ee96-440b-fb06-474721fd31e3"
      },
      "execution_count": 30,
      "outputs": [
        {
          "output_type": "execute_result",
          "data": {
            "text/plain": [
              "142"
            ]
          },
          "metadata": {},
          "execution_count": 30
        }
      ]
    },
    {
      "cell_type": "code",
      "source": [
        "# Same mean function method; Pandas\n",
        "songs3.mean()"
      ],
      "metadata": {
        "colab": {
          "base_uri": "https://localhost:8080/"
        },
        "id": "ZnerSEPLKuJY",
        "outputId": "02420aa9-5558-4f57-dbff-c208262a1688"
      },
      "execution_count": 33,
      "outputs": [
        {
          "output_type": "execute_result",
          "data": {
            "text/plain": [
              "84.5"
            ]
          },
          "metadata": {},
          "execution_count": 33
        }
      ]
    },
    {
      "cell_type": "code",
      "source": [
        "# Mean in numpy\n",
        "numpy_series.mean()"
      ],
      "metadata": {
        "colab": {
          "base_uri": "https://localhost:8080/"
        },
        "id": "oxV81ar1LPDB",
        "outputId": "79a725ae-f63b-41f5-8cfb-dacabac4e709"
      },
      "execution_count": 34,
      "outputs": [
        {
          "output_type": "execute_result",
          "data": {
            "text/plain": [
              "84.5"
            ]
          },
          "metadata": {},
          "execution_count": 34
        }
      ]
    },
    {
      "cell_type": "markdown",
      "source": [
        "#### Making a mask"
      ],
      "metadata": {
        "id": "ymhnqnR8Las4"
      }
    },
    {
      "cell_type": "markdown",
      "source": [
        "They also both have a notion of a boolean array. A boolean array is a series with the same index as the series you are working with that has boolean values, and it can be used as a mask to filter out items. Normal Python lists do not support such fancy index operations, like sticking a list into an index operation."
      ],
      "metadata": {
        "id": "WNY0KAYhLnjS"
      }
    },
    {
      "cell_type": "code",
      "source": [
        "# Here is evaluaded the value of each cell. It will return True if exceeds the median value, otherwise False\n",
        "mask = songs3 > songs3.median()"
      ],
      "metadata": {
        "id": "FGHY48PDLUmb"
      },
      "execution_count": 37,
      "outputs": []
    },
    {
      "cell_type": "code",
      "source": [
        "mask"
      ],
      "metadata": {
        "colab": {
          "base_uri": "https://localhost:8080/",
          "height": 210
        },
        "id": "NDa_uGRyLsLC",
        "outputId": "2df54746-2bfc-43b7-ac95-c7a9107568df"
      },
      "execution_count": 38,
      "outputs": [
        {
          "output_type": "execute_result",
          "data": {
            "text/plain": [
              "Paul       True\n",
              "John       True\n",
              "George    False\n",
              "Ringo     False\n",
              "Name: counts, dtype: bool"
            ],
            "text/html": [
              "<div>\n",
              "<style scoped>\n",
              "    .dataframe tbody tr th:only-of-type {\n",
              "        vertical-align: middle;\n",
              "    }\n",
              "\n",
              "    .dataframe tbody tr th {\n",
              "        vertical-align: top;\n",
              "    }\n",
              "\n",
              "    .dataframe thead th {\n",
              "        text-align: right;\n",
              "    }\n",
              "</style>\n",
              "<table border=\"1\" class=\"dataframe\">\n",
              "  <thead>\n",
              "    <tr style=\"text-align: right;\">\n",
              "      <th></th>\n",
              "      <th>counts</th>\n",
              "    </tr>\n",
              "  </thead>\n",
              "  <tbody>\n",
              "    <tr>\n",
              "      <th>Paul</th>\n",
              "      <td>True</td>\n",
              "    </tr>\n",
              "    <tr>\n",
              "      <th>John</th>\n",
              "      <td>True</td>\n",
              "    </tr>\n",
              "    <tr>\n",
              "      <th>George</th>\n",
              "      <td>False</td>\n",
              "    </tr>\n",
              "    <tr>\n",
              "      <th>Ringo</th>\n",
              "      <td>False</td>\n",
              "    </tr>\n",
              "  </tbody>\n",
              "</table>\n",
              "</div><br><label><b>dtype:</b> bool</label>"
            ]
          },
          "metadata": {},
          "execution_count": 38
        }
      ]
    },
    {
      "cell_type": "code",
      "source": [],
      "metadata": {
        "id": "8HHon7YILs3i"
      },
      "execution_count": null,
      "outputs": []
    }
  ]
}